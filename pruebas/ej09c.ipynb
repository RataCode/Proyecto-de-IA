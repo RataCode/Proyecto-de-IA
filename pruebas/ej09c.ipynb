{
 "cells": [
  {
   "cell_type": "markdown",
   "metadata": {},
   "source": [
    "En esta versión escalaremos los datos mediante utilidades de sk-learn"
   ]
  },
  {
   "cell_type": "code",
   "execution_count": 107,
   "metadata": {},
   "outputs": [],
   "source": [
    "import numpy as np\n",
    "datos = np.load('datasets/pisos_vendidos.npy')"
   ]
  },
  {
   "cell_type": "code",
   "execution_count": 108,
   "metadata": {},
   "outputs": [],
   "source": [
    "#Vamos a dividir la primera columna (X = metros) de la segunda (y = precios)\n",
    "X = datos.T[0].reshape(-1, 1)\n",
    "y = datos.T[1]"
   ]
  },
  {
   "cell_type": "code",
   "execution_count": 109,
   "metadata": {},
   "outputs": [],
   "source": [
    "from sklearn.preprocessing import MinMaxScaler\n",
    "#Escalamos los datos, en un rango [0, 1]:\n",
    "X_scaler = MinMaxScaler(feature_range=(0, 1))\n",
    "X = X_scaler.fit_transform(X)\n",
    "\n",
    "#Y lo mismo para la y:\n",
    "y_scaler = MinMaxScaler(feature_range=(0, 1))\n",
    "y = y_scaler.fit_transform(y.reshape(-1, 1)).reshape(-1)"
   ]
  },
  {
   "cell_type": "code",
   "execution_count": 110,
   "metadata": {},
   "outputs": [],
   "source": [
    "#Contruimos la red, que será muy simple: una única neurona\n",
    "from keras.models import Sequential\n",
    "from keras.layers import Dense\n",
    "\n",
    "model = Sequential()\n",
    "model.add(Dense(1,input_shape=(1,), activation=None, kernel_constraint='NonNeg' ))"
   ]
  },
  {
   "cell_type": "code",
   "execution_count": 112,
   "metadata": {},
   "outputs": [
    {
     "name": "stdout",
     "output_type": "stream",
     "text": [
      "Epoch 1/100\n",
      "4/4 [==============================] - 0s 1ms/step - loss: 0.2054 - mse: 0.2054\n",
      "Epoch 2/100\n",
      "4/4 [==============================] - 0s 958us/step - loss: 0.2014 - mse: 0.2014\n",
      "Epoch 3/100\n",
      "4/4 [==============================] - 0s 606us/step - loss: 0.1977 - mse: 0.1977\n",
      "Epoch 4/100\n",
      "4/4 [==============================] - 0s 778us/step - loss: 0.1939 - mse: 0.1939\n",
      "Epoch 5/100\n",
      "4/4 [==============================] - 0s 741us/step - loss: 0.1899 - mse: 0.1899\n",
      "Epoch 6/100\n",
      "4/4 [==============================] - 0s 1ms/step - loss: 0.1864 - mse: 0.1864\n",
      "Epoch 7/100\n",
      "4/4 [==============================] - 0s 689us/step - loss: 0.1824 - mse: 0.1824\n",
      "Epoch 8/100\n",
      "4/4 [==============================] - 0s 967us/step - loss: 0.1791 - mse: 0.1791\n",
      "Epoch 9/100\n",
      "4/4 [==============================] - 0s 1ms/step - loss: 0.1760 - mse: 0.1760\n",
      "Epoch 10/100\n",
      "4/4 [==============================] - 0s 728us/step - loss: 0.1722 - mse: 0.1722\n",
      "Epoch 11/100\n",
      "4/4 [==============================] - 0s 1ms/step - loss: 0.1694 - mse: 0.1694\n",
      "Epoch 12/100\n",
      "4/4 [==============================] - 0s 893us/step - loss: 0.1662 - mse: 0.1662\n",
      "Epoch 13/100\n",
      "4/4 [==============================] - 0s 1ms/step - loss: 0.1624 - mse: 0.1624\n",
      "Epoch 14/100\n",
      "4/4 [==============================] - 0s 1ms/step - loss: 0.1596 - mse: 0.1596\n",
      "Epoch 15/100\n",
      "4/4 [==============================] - 0s 1ms/step - loss: 0.1566 - mse: 0.1566\n",
      "Epoch 16/100\n",
      "4/4 [==============================] - 0s 730us/step - loss: 0.1537 - mse: 0.1537\n",
      "Epoch 17/100\n",
      "4/4 [==============================] - 0s 1ms/step - loss: 0.1512 - mse: 0.1512\n",
      "Epoch 18/100\n",
      "4/4 [==============================] - 0s 704us/step - loss: 0.1478 - mse: 0.1478\n",
      "Epoch 19/100\n",
      "4/4 [==============================] - 0s 1ms/step - loss: 0.1450 - mse: 0.1450\n",
      "Epoch 20/100\n",
      "4/4 [==============================] - 0s 734us/step - loss: 0.1418 - mse: 0.1418\n",
      "Epoch 21/100\n",
      "4/4 [==============================] - 0s 778us/step - loss: 0.1394 - mse: 0.1394\n",
      "Epoch 22/100\n",
      "4/4 [==============================] - 0s 1ms/step - loss: 0.1365 - mse: 0.1365\n",
      "Epoch 23/100\n",
      "4/4 [==============================] - 0s 720us/step - loss: 0.1341 - mse: 0.1341\n",
      "Epoch 24/100\n",
      "4/4 [==============================] - 0s 978us/step - loss: 0.1313 - mse: 0.1313\n",
      "Epoch 25/100\n",
      "4/4 [==============================] - 0s 713us/step - loss: 0.1287 - mse: 0.1287\n",
      "Epoch 26/100\n",
      "4/4 [==============================] - 0s 852us/step - loss: 0.1265 - mse: 0.1265\n",
      "Epoch 27/100\n",
      "4/4 [==============================] - 0s 586us/step - loss: 0.1239 - mse: 0.1239\n",
      "Epoch 28/100\n",
      "4/4 [==============================] - 0s 1ms/step - loss: 0.1216 - mse: 0.1216\n",
      "Epoch 29/100\n",
      "4/4 [==============================] - 0s 637us/step - loss: 0.1195 - mse: 0.1195\n",
      "Epoch 30/100\n",
      "4/4 [==============================] - 0s 914us/step - loss: 0.1173 - mse: 0.1173\n",
      "Epoch 31/100\n",
      "4/4 [==============================] - 0s 2ms/step - loss: 0.1155 - mse: 0.1155\n",
      "Epoch 32/100\n",
      "4/4 [==============================] - 0s 1ms/step - loss: 0.1135 - mse: 0.1135\n",
      "Epoch 33/100\n",
      "4/4 [==============================] - 0s 739us/step - loss: 0.1118 - mse: 0.1118\n",
      "Epoch 34/100\n",
      "4/4 [==============================] - 0s 899us/step - loss: 0.1101 - mse: 0.1101\n",
      "Epoch 35/100\n",
      "4/4 [==============================] - 0s 865us/step - loss: 0.1083 - mse: 0.1083\n",
      "Epoch 36/100\n",
      "4/4 [==============================] - 0s 691us/step - loss: 0.1069 - mse: 0.1069\n",
      "Epoch 37/100\n",
      "4/4 [==============================] - 0s 728us/step - loss: 0.1051 - mse: 0.1051\n",
      "Epoch 38/100\n",
      "4/4 [==============================] - 0s 907us/step - loss: 0.1036 - mse: 0.1036\n",
      "Epoch 39/100\n",
      "4/4 [==============================] - 0s 853us/step - loss: 0.1022 - mse: 0.1022\n",
      "Epoch 40/100\n",
      "4/4 [==============================] - 0s 704us/step - loss: 0.1005 - mse: 0.1005\n",
      "Epoch 41/100\n",
      "4/4 [==============================] - 0s 616us/step - loss: 0.0987 - mse: 0.0987\n",
      "Epoch 42/100\n",
      "4/4 [==============================] - 0s 935us/step - loss: 0.0971 - mse: 0.0971\n",
      "Epoch 43/100\n",
      "4/4 [==============================] - 0s 1ms/step - loss: 0.0955 - mse: 0.0955\n",
      "Epoch 44/100\n",
      "4/4 [==============================] - 0s 1ms/step - loss: 0.0935 - mse: 0.0935\n",
      "Epoch 45/100\n",
      "4/4 [==============================] - 0s 1ms/step - loss: 0.0922 - mse: 0.0922\n",
      "Epoch 46/100\n",
      "4/4 [==============================] - 0s 960us/step - loss: 0.0908 - mse: 0.0908\n",
      "Epoch 47/100\n",
      "4/4 [==============================] - 0s 1ms/step - loss: 0.0891 - mse: 0.0891\n",
      "Epoch 48/100\n",
      "4/4 [==============================] - 0s 783us/step - loss: 0.0880 - mse: 0.0880\n",
      "Epoch 49/100\n",
      "4/4 [==============================] - 0s 796us/step - loss: 0.0867 - mse: 0.0867\n",
      "Epoch 50/100\n",
      "4/4 [==============================] - 0s 2ms/step - loss: 0.0854 - mse: 0.0854\n",
      "Epoch 51/100\n",
      "4/4 [==============================] - 0s 1ms/step - loss: 0.0841 - mse: 0.0841\n",
      "Epoch 52/100\n",
      "4/4 [==============================] - 0s 2ms/step - loss: 0.0832 - mse: 0.0832\n",
      "Epoch 53/100\n",
      "4/4 [==============================] - 0s 1ms/step - loss: 0.0820 - mse: 0.0820\n",
      "Epoch 54/100\n",
      "4/4 [==============================] - 0s 2ms/step - loss: 0.0810 - mse: 0.0810\n",
      "Epoch 55/100\n",
      "4/4 [==============================] - 0s 725us/step - loss: 0.0797 - mse: 0.0797\n",
      "Epoch 56/100\n",
      "4/4 [==============================] - 0s 666us/step - loss: 0.0787 - mse: 0.0787\n",
      "Epoch 57/100\n",
      "4/4 [==============================] - 0s 853us/step - loss: 0.0776 - mse: 0.0776\n",
      "Epoch 58/100\n",
      "4/4 [==============================] - 0s 2ms/step - loss: 0.0766 - mse: 0.0766\n",
      "Epoch 59/100\n",
      "4/4 [==============================] - 0s 692us/step - loss: 0.0754 - mse: 0.0754\n",
      "Epoch 60/100\n",
      "4/4 [==============================] - 0s 1ms/step - loss: 0.0745 - mse: 0.0745\n",
      "Epoch 61/100\n",
      "4/4 [==============================] - 0s 852us/step - loss: 0.0737 - mse: 0.0737\n",
      "Epoch 62/100\n",
      "4/4 [==============================] - 0s 675us/step - loss: 0.0729 - mse: 0.0729\n",
      "Epoch 63/100\n",
      "4/4 [==============================] - 0s 1ms/step - loss: 0.0718 - mse: 0.0718\n",
      "Epoch 64/100\n",
      "4/4 [==============================] - 0s 828us/step - loss: 0.0709 - mse: 0.0709\n",
      "Epoch 65/100\n",
      "4/4 [==============================] - 0s 1ms/step - loss: 0.0699 - mse: 0.0699\n",
      "Epoch 66/100\n",
      "4/4 [==============================] - 0s 2ms/step - loss: 0.0691 - mse: 0.0691\n",
      "Epoch 67/100\n",
      "4/4 [==============================] - 0s 973us/step - loss: 0.0678 - mse: 0.0678\n",
      "Epoch 68/100\n",
      "4/4 [==============================] - 0s 1ms/step - loss: 0.0669 - mse: 0.0669\n",
      "Epoch 69/100\n",
      "4/4 [==============================] - 0s 969us/step - loss: 0.0661 - mse: 0.0661\n",
      "Epoch 70/100\n",
      "4/4 [==============================] - 0s 713us/step - loss: 0.0653 - mse: 0.0653\n",
      "Epoch 71/100\n",
      "4/4 [==============================] - 0s 1ms/step - loss: 0.0644 - mse: 0.0644\n",
      "Epoch 72/100\n",
      "4/4 [==============================] - 0s 1ms/step - loss: 0.0633 - mse: 0.0633\n",
      "Epoch 73/100\n",
      "4/4 [==============================] - 0s 1ms/step - loss: 0.0625 - mse: 0.0625\n",
      "Epoch 74/100\n",
      "4/4 [==============================] - 0s 1ms/step - loss: 0.0616 - mse: 0.0616\n",
      "Epoch 75/100\n",
      "4/4 [==============================] - 0s 2ms/step - loss: 0.0607 - mse: 0.0607\n",
      "Epoch 76/100\n",
      "4/4 [==============================] - 0s 686us/step - loss: 0.0602 - mse: 0.0602\n",
      "Epoch 77/100\n",
      "4/4 [==============================] - 0s 893us/step - loss: 0.0593 - mse: 0.0593\n",
      "Epoch 78/100\n",
      "4/4 [==============================] - 0s 2ms/step - loss: 0.0587 - mse: 0.0587\n",
      "Epoch 79/100\n",
      "4/4 [==============================] - 0s 835us/step - loss: 0.0580 - mse: 0.0580\n",
      "Epoch 80/100\n",
      "4/4 [==============================] - 0s 1ms/step - loss: 0.0575 - mse: 0.0575\n",
      "Epoch 81/100\n",
      "4/4 [==============================] - 0s 1ms/step - loss: 0.0571 - mse: 0.0571\n",
      "Epoch 82/100\n",
      "4/4 [==============================] - 0s 1ms/step - loss: 0.0566 - mse: 0.0566\n",
      "Epoch 83/100\n",
      "4/4 [==============================] - 0s 2ms/step - loss: 0.0561 - mse: 0.0561\n",
      "Epoch 84/100\n",
      "4/4 [==============================] - 0s 1ms/step - loss: 0.0557 - mse: 0.0557\n",
      "Epoch 85/100\n",
      "4/4 [==============================] - 0s 854us/step - loss: 0.0552 - mse: 0.0552\n",
      "Epoch 86/100\n",
      "4/4 [==============================] - 0s 816us/step - loss: 0.0548 - mse: 0.0548\n",
      "Epoch 87/100\n",
      "4/4 [==============================] - 0s 1ms/step - loss: 0.0543 - mse: 0.0543\n",
      "Epoch 88/100\n",
      "4/4 [==============================] - 0s 823us/step - loss: 0.0536 - mse: 0.0536\n",
      "Epoch 89/100\n",
      "4/4 [==============================] - 0s 3ms/step - loss: 0.0532 - mse: 0.0532\n",
      "Epoch 90/100\n",
      "4/4 [==============================] - 0s 734us/step - loss: 0.0524 - mse: 0.0524\n",
      "Epoch 91/100\n",
      "4/4 [==============================] - 0s 1ms/step - loss: 0.0519 - mse: 0.0519\n",
      "Epoch 92/100\n",
      "4/4 [==============================] - 0s 806us/step - loss: 0.0514 - mse: 0.0514\n",
      "Epoch 93/100\n",
      "4/4 [==============================] - 0s 1ms/step - loss: 0.0507 - mse: 0.0507\n",
      "Epoch 94/100\n",
      "4/4 [==============================] - 0s 1ms/step - loss: 0.0505 - mse: 0.0505\n",
      "Epoch 95/100\n",
      "4/4 [==============================] - 0s 1ms/step - loss: 0.0498 - mse: 0.0498\n",
      "Epoch 96/100\n",
      "4/4 [==============================] - 0s 1ms/step - loss: 0.0494 - mse: 0.0494\n",
      "Epoch 97/100\n",
      "4/4 [==============================] - 0s 788us/step - loss: 0.0491 - mse: 0.0491\n",
      "Epoch 98/100\n",
      "4/4 [==============================] - 0s 710us/step - loss: 0.0486 - mse: 0.0486\n",
      "Epoch 99/100\n",
      "4/4 [==============================] - 0s 2ms/step - loss: 0.0482 - mse: 0.0482\n",
      "Epoch 100/100\n",
      "4/4 [==============================] - 0s 1ms/step - loss: 0.0477 - mse: 0.0477\n"
     ]
    }
   ],
   "source": [
    "model.compile(\n",
    "    optimizer='adam',\n",
    "    loss='mse',\n",
    "    metrics=['mse']\n",
    "    )\n",
    "\n",
    "history = model.fit(\n",
    "    X, y,\n",
    "    epochs=100,\n",
    "    batch_size=4)"
   ]
  },
  {
   "cell_type": "code",
   "execution_count": 113,
   "metadata": {},
   "outputs": [
    {
     "data": {
      "image/png": "[encoded data removed]",
      "text/plain": [
       "<Figure size 432x288 with 1 Axes>"
      ]
     },
     "metadata": {
      "needs_background": "light"
     },
     "output_type": "display_data"
    }
   ],
   "source": [
    "#Vemos el proceso de entrenamiento\n",
    "import matplotlib.pyplot as plt\n",
    "plt.xlabel('Epoch')\n",
    "plt.ylabel(\"Loss\")\n",
    "plt.plot(history.history['loss'])\n",
    "plt.show()"
   ]
  },
  {
   "cell_type": "code",
   "execution_count": 119,
   "metadata": {},
   "outputs": [
    {
     "name": "stdout",
     "output_type": "stream",
     "text": [
      "1/1 [==============================] - 0s 12ms/step - loss: 0.0474 - mse: 0.0474\n",
      "Score: 0.04740624129772186\n",
      "Error: 45240.47 euros\n"
     ]
    }
   ],
   "source": [
    "score, mse = model.evaluate(X, y)\n",
    "print('Score:', score)\n",
    "error = y_scaler.inverse_transform( np.square(mse).reshape(-1,1) ).reshape(-1)\n",
    "print('Error:', np.round(error[0],2), 'euros')"
   ]
  },
  {
   "cell_type": "code",
   "execution_count": 122,
   "metadata": {},
   "outputs": [
    {
     "name": "stdout",
     "output_type": "stream",
     "text": [
      "77796.02 euros\n"
     ]
    }
   ],
   "source": [
    "#Predecimos cuánto vale un piso de 70 metros cuadrados\n",
    "X_new = [ [70] ]\n",
    "#hay que escalar los datos\n",
    "X_new = X_scaler.transform(X_new)\n",
    "y_pred = model.predict(X_new)\n",
    "\n",
    "#y desescalar los datos:\n",
    "y_pred = y_scaler.inverse_transform(y_pred.reshape(-1, 1)).reshape(-1)\n",
    "print(np.round(y_pred[0],2), \"euros\")\n"
   ]
  }
 ],
 "metadata": {
  "interpreter": {
   "hash": "e7370f93d1d0cde622a1f8e1c04877d8463912d04d973331ad4851f04de6915a"
  },
  "kernelspec": {
   "display_name": "Python 3.8.10 64-bit",
   "language": "python",
   "name": "python3"
  },
  "language_info": {
   "codemirror_mode": {
    "name": "ipython",
    "version": 3
   },
   "file_extension": ".py",
   "mimetype": "text/x-python",
   "name": "python",
   "nbconvert_exporter": "python",
   "pygments_lexer": "ipython3",
   "version": "3.8.10"
  },
  "orig_nbformat": 4
 },
 "nbformat": 4,
 "nbformat_minor": 2
}
